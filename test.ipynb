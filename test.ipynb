{
 "cells": [
  {
   "cell_type": "code",
   "execution_count": 1,
   "metadata": {},
   "outputs": [],
   "source": [
    "%load_ext autoreload\n",
    "%autoreload 2"
   ]
  },
  {
   "cell_type": "code",
   "execution_count": 2,
   "metadata": {},
   "outputs": [
    {
     "name": "stderr",
     "output_type": "stream",
     "text": [
      "/Users/louisskowronek/Documents/Projects/ccbot-v2/.venv/lib/python3.12/site-packages/pydantic/_internal/_generate_schema.py:547: UserWarning: <built-in function array> is not a Python type (it may be an instance of an object), Pydantic will allow any object with no validation since we cannot even enforce that the input is an instance of the given type. To get rid of this error wrap the type with `pydantic.SkipValidation`.\n",
      "  warn(\n"
     ]
    }
   ],
   "source": [
    "from src.core.model import BaseModelConfiguration, TrainingInformation\n",
    "from src.core.preprocessor import PreprocessorConfiguration\n",
    "from src.core.base import ObjectId, BaseConfiguration, BasePipelineComponent\n",
    "from src.core.pipeline import Pipeline, PipelineConfig, load_pipeline\n",
    "from src.core.model import Model\n",
    "import pandas as pd\n",
    "from src.adapter.models import LgbmModelClf\n",
    "from importlib import import_module\n",
    "from typing import Type\n"
   ]
  },
  {
   "cell_type": "code",
   "execution_count": null,
   "metadata": {},
   "outputs": [],
   "source": [
    "# for each component of the pipeline a configuration can be created.\n",
    "# based on the config its possible to reload the whole pipeline again\n",
    "\n",
    "# next:\n",
    "# create a datasource\n",
    "# create a preprocessor\n",
    "# create a model -- done\n",
    "# create an exchange\n",
    "# stitch everything together in the pipeline"
   ]
  },
  {
   "cell_type": "code",
   "execution_count": 13,
   "metadata": {},
   "outputs": [],
   "source": [
    "training_info = TrainingInformation(\n",
    "    symbols=[\"BTC\"],\n",
    "    train_start_date= pd.Timestamp(\"2020-02-02\"),\n",
    "    train_end_date= pd.Timestamp(\"2020-02-02\"),\n",
    "    test_start_date= pd.Timestamp(\"2020-02-02\"),\n",
    "    test_end_date= pd.Timestamp(\"2020-02-02\"),\n",
    "    save_path= \"test\"\n",
    "    )"
   ]
  },
  {
   "cell_type": "code",
   "execution_count": 14,
   "metadata": {},
   "outputs": [],
   "source": [
    "config1 = PreprocessorConfiguration(\n",
    "    object_id= ObjectId(value=\"preprocessor\"),\n",
    "    resource_path= \"test.pss\",\n",
    "    depends_on= ObjectId(value=\"datasource\"),\n",
    "    init_params= {}\n",
    ")\n",
    "\n",
    "config2 = BaseModelConfiguration(\n",
    "        object_id=ObjectId(value=\"test\"),\n",
    "        resource_path=\"pee.eef\",\n",
    "        depends_on=ObjectId(value=\"test2\"),\n",
    "        training_information=training_info,\n",
    "    )\n",
    "\n",
    "config3 = BaseModelConfiguration(\n",
    "        object_id=ObjectId(value=\"test1\"),\n",
    "        resource_path=\"pee.eef\",\n",
    "        depends_on=ObjectId(value=\"test2\"),\n",
    "        training_information=training_info,\n",
    "    )"
   ]
  },
  {
   "cell_type": "markdown",
   "metadata": {},
   "source": [
    "### Instructions pipeline"
   ]
  },
  {
   "cell_type": "code",
   "execution_count": 3,
   "metadata": {},
   "outputs": [],
   "source": [
    "# create configurations\n",
    "model = LgbmModelClf(object_id=ObjectId(value=\"model_lgbm\"), depends_on=ObjectId(value=\"test_preprocessor\"))\n",
    "config1 = model.create_configuration()"
   ]
  },
  {
   "cell_type": "code",
   "execution_count": 4,
   "metadata": {},
   "outputs": [],
   "source": [
    "# create pipeline off of configuration\n",
    "pipeline_config = PipelineConfig(pipeline=[config1])\n",
    "pipeline = Pipeline(pipeline_config)"
   ]
  },
  {
   "cell_type": "code",
   "execution_count": 5,
   "metadata": {},
   "outputs": [],
   "source": [
    "# save pipeline configuration\n",
    "pipeline.export_component_configs(\"/Users/louisskowronek/Documents/Projects/ccbot-v2/test4.json\")"
   ]
  },
  {
   "cell_type": "code",
   "execution_count": 18,
   "metadata": {},
   "outputs": [
    {
     "name": "stdout",
     "output_type": "stream",
     "text": [
      "[{'config_type': 'model', 'object_id': {'value': 'model_lgbm'}, 'resource_path': 'src.adapter.models.LgbmModelClf', 'depends_on': {'value': 'test_preprocessor'}, 'training_information': None}]\n"
     ]
    }
   ],
   "source": [
    "# load pipeline from disk\n",
    "pipeline = load_pipeline(\"/Users/louisskowronek/Documents/Projects/ccbot-v2/test4.json\")"
   ]
  }
 ],
 "metadata": {
  "kernelspec": {
   "display_name": ".venv",
   "language": "python",
   "name": "python3"
  },
  "language_info": {
   "codemirror_mode": {
    "name": "ipython",
    "version": 3
   },
   "file_extension": ".py",
   "mimetype": "text/x-python",
   "name": "python",
   "nbconvert_exporter": "python",
   "pygments_lexer": "ipython3",
   "version": "3.12.4"
  }
 },
 "nbformat": 4,
 "nbformat_minor": 2
}
