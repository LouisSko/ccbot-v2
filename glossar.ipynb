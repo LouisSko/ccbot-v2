{
 "cells": [
  {
   "cell_type": "markdown",
   "metadata": {},
   "source": [
    "### Instructions pipeline"
   ]
  },
  {
   "cell_type": "code",
   "execution_count": null,
   "metadata": {},
   "outputs": [],
   "source": [
    "from src.core.pipeline import Pipeline, PipelineConfig, load_pipeline\n",
    "from src.adapter.models import LgbmModelClf\n",
    "from src.core.base import ObjectId"
   ]
  },
  {
   "cell_type": "code",
   "execution_count": null,
   "metadata": {},
   "outputs": [],
   "source": [
    "# create configurations\n",
    "model = LgbmModelClf(object_id=ObjectId(value=\"model_lgbm\"), depends_on=ObjectId(value=\"test_preprocessor\"))\n",
    "config1 = model.create_configuration()"
   ]
  },
  {
   "cell_type": "code",
   "execution_count": null,
   "metadata": {},
   "outputs": [],
   "source": [
    "# create pipeline off of configuration\n",
    "pipeline_config = PipelineConfig(pipeline=[config1])\n",
    "pipeline = Pipeline(pipeline_config)"
   ]
  },
  {
   "cell_type": "code",
   "execution_count": null,
   "metadata": {},
   "outputs": [],
   "source": [
    "# save pipeline configuration\n",
    "pipeline.export_component_configs(\"/Users/louisskowronek/Documents/Projects/ccbot-v2/test4.json\")"
   ]
  },
  {
   "cell_type": "code",
   "execution_count": null,
   "metadata": {},
   "outputs": [
    {
     "name": "stdout",
     "output_type": "stream",
     "text": [
      "[{'config_type': 'model', 'object_id': {'value': 'model_lgbm'}, 'resource_path': 'src.adapter.models.LgbmModelClf', 'depends_on': {'value': 'test_preprocessor'}, 'training_information': None}]\n"
     ]
    }
   ],
   "source": [
    "# load pipeline from disk\n",
    "pipeline = load_pipeline(\"/Users/louisskowronek/Documents/Projects/ccbot-v2/test4.json\")"
   ]
  }
 ],
 "metadata": {
  "language_info": {
   "name": "python"
  }
 },
 "nbformat": 4,
 "nbformat_minor": 2
}
